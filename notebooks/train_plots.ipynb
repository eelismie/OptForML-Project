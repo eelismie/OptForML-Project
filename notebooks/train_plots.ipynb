{
 "cells": [
  {
   "cell_type": "markdown",
   "id": "7229e67c-b14b-418e-a6c8-1030c40294fb",
   "metadata": {},
   "source": [
    "# Train Plots Notebook\n",
    "\n",
    "This notebook shows the convergance for different method through loss-plots.\n",
    "\n",
    "First, some global imports:"
   ]
  },
  {
   "cell_type": "code",
   "execution_count": 2,
   "id": "70307aed-dc59-44fa-81b8-0d193f47464b",
   "metadata": {},
   "outputs": [
    {
     "name": "stdout",
     "output_type": "stream",
     "text": [
      "The autoreload extension is already loaded. To reload it, use:\n",
      "  %reload_ext autoreload\n"
     ]
    }
   ],
   "source": [
    "%load_ext autoreload\n",
    "%autoreload 2\n",
    "\n",
    "import sys\n",
    "sys.path.insert(0, '../modules')\n",
    "\n",
    "import numpy as np\n",
    "import pandas as pd\n",
    "import matplotlib\n",
    "from matplotlib import pyplot as plt\n",
    "%matplotlib inline\n",
    "\n",
    "import torch\n",
    "from torch import nn"
   ]
  },
  {
   "cell_type": "markdown",
   "id": "57442813-6a6c-4f8a-a546-a78b3b7e4b5d",
   "metadata": {},
   "source": [
    "next, we read the CSV containing all the train info:"
   ]
  },
  {
   "cell_type": "code",
   "execution_count": 19,
   "id": "43df5472-6829-490e-8c75-acb0c07710f5",
   "metadata": {},
   "outputs": [
    {
     "data": {
      "text/html": [
       "<div>\n",
       "<style scoped>\n",
       "    .dataframe tbody tr th:only-of-type {\n",
       "        vertical-align: middle;\n",
       "    }\n",
       "\n",
       "    .dataframe tbody tr th {\n",
       "        vertical-align: top;\n",
       "    }\n",
       "\n",
       "    .dataframe thead th {\n",
       "        text-align: right;\n",
       "    }\n",
       "</style>\n",
       "<table border=\"1\" class=\"dataframe\">\n",
       "  <thead>\n",
       "    <tr style=\"text-align: right;\">\n",
       "      <th></th>\n",
       "      <th>topo</th>\n",
       "      <th>nodes</th>\n",
       "      <th>lr</th>\n",
       "      <th>batch_size</th>\n",
       "      <th>mixing_steps</th>\n",
       "      <th>local_steps</th>\n",
       "      <th>loss</th>\n",
       "    </tr>\n",
       "  </thead>\n",
       "  <tbody>\n",
       "    <tr>\n",
       "      <th>0</th>\n",
       "      <td>fc</td>\n",
       "      <td>100</td>\n",
       "      <td>0.01</td>\n",
       "      <td>20</td>\n",
       "      <td>1</td>\n",
       "      <td>1</td>\n",
       "      <td>0.106314</td>\n",
       "    </tr>\n",
       "    <tr>\n",
       "      <th>1</th>\n",
       "      <td>fc</td>\n",
       "      <td>100</td>\n",
       "      <td>0.01</td>\n",
       "      <td>20</td>\n",
       "      <td>1</td>\n",
       "      <td>1</td>\n",
       "      <td>0.104929</td>\n",
       "    </tr>\n",
       "    <tr>\n",
       "      <th>2</th>\n",
       "      <td>fc</td>\n",
       "      <td>100</td>\n",
       "      <td>0.01</td>\n",
       "      <td>20</td>\n",
       "      <td>1</td>\n",
       "      <td>1</td>\n",
       "      <td>0.103651</td>\n",
       "    </tr>\n",
       "    <tr>\n",
       "      <th>3</th>\n",
       "      <td>fc</td>\n",
       "      <td>100</td>\n",
       "      <td>0.01</td>\n",
       "      <td>20</td>\n",
       "      <td>1</td>\n",
       "      <td>1</td>\n",
       "      <td>0.102469</td>\n",
       "    </tr>\n",
       "    <tr>\n",
       "      <th>4</th>\n",
       "      <td>fc</td>\n",
       "      <td>100</td>\n",
       "      <td>0.01</td>\n",
       "      <td>20</td>\n",
       "      <td>1</td>\n",
       "      <td>1</td>\n",
       "      <td>0.101372</td>\n",
       "    </tr>\n",
       "    <tr>\n",
       "      <th>...</th>\n",
       "      <td>...</td>\n",
       "      <td>...</td>\n",
       "      <td>...</td>\n",
       "      <td>...</td>\n",
       "      <td>...</td>\n",
       "      <td>...</td>\n",
       "      <td>...</td>\n",
       "    </tr>\n",
       "    <tr>\n",
       "      <th>195</th>\n",
       "      <td>ring</td>\n",
       "      <td>100</td>\n",
       "      <td>0.01</td>\n",
       "      <td>20</td>\n",
       "      <td>1</td>\n",
       "      <td>1</td>\n",
       "      <td>0.076788</td>\n",
       "    </tr>\n",
       "    <tr>\n",
       "      <th>196</th>\n",
       "      <td>ring</td>\n",
       "      <td>100</td>\n",
       "      <td>0.01</td>\n",
       "      <td>20</td>\n",
       "      <td>1</td>\n",
       "      <td>1</td>\n",
       "      <td>0.076688</td>\n",
       "    </tr>\n",
       "    <tr>\n",
       "      <th>197</th>\n",
       "      <td>ring</td>\n",
       "      <td>100</td>\n",
       "      <td>0.01</td>\n",
       "      <td>20</td>\n",
       "      <td>1</td>\n",
       "      <td>1</td>\n",
       "      <td>0.076590</td>\n",
       "    </tr>\n",
       "    <tr>\n",
       "      <th>198</th>\n",
       "      <td>ring</td>\n",
       "      <td>100</td>\n",
       "      <td>0.01</td>\n",
       "      <td>20</td>\n",
       "      <td>1</td>\n",
       "      <td>1</td>\n",
       "      <td>0.076496</td>\n",
       "    </tr>\n",
       "    <tr>\n",
       "      <th>199</th>\n",
       "      <td>ring</td>\n",
       "      <td>100</td>\n",
       "      <td>0.01</td>\n",
       "      <td>20</td>\n",
       "      <td>1</td>\n",
       "      <td>1</td>\n",
       "      <td>0.076404</td>\n",
       "    </tr>\n",
       "  </tbody>\n",
       "</table>\n",
       "<p>200 rows × 7 columns</p>\n",
       "</div>"
      ],
      "text/plain": [
       "     topo  nodes    lr  batch_size  mixing_steps  local_steps      loss\n",
       "0      fc    100  0.01          20             1            1  0.106314\n",
       "1      fc    100  0.01          20             1            1  0.104929\n",
       "2      fc    100  0.01          20             1            1  0.103651\n",
       "3      fc    100  0.01          20             1            1  0.102469\n",
       "4      fc    100  0.01          20             1            1  0.101372\n",
       "..    ...    ...   ...         ...           ...          ...       ...\n",
       "195  ring    100  0.01          20             1            1  0.076788\n",
       "196  ring    100  0.01          20             1            1  0.076688\n",
       "197  ring    100  0.01          20             1            1  0.076590\n",
       "198  ring    100  0.01          20             1            1  0.076496\n",
       "199  ring    100  0.01          20             1            1  0.076404\n",
       "\n",
       "[200 rows x 7 columns]"
      ]
     },
     "execution_count": 19,
     "metadata": {},
     "output_type": "execute_result"
    }
   ],
   "source": [
    "df = pd.read_csv('out.csv')\n",
    "df"
   ]
  },
  {
   "cell_type": "markdown",
   "id": "df65923c-bfaa-4493-a24a-06655d2c53e2",
   "metadata": {},
   "source": [
    "Now we can plot the train losses for the different topologies,"
   ]
  },
  {
   "cell_type": "code",
   "execution_count": 22,
   "id": "adaeb756-9ef7-4a26-b807-6205527af4de",
   "metadata": {},
   "outputs": [
    {
     "data": {
      "image/png": "[encoded data removed]",
      "text/plain": [
       "<Figure size 864x432 with 1 Axes>"
      ]
     },
     "metadata": {
      "needs_background": "light"
     },
     "output_type": "display_data"
    }
   ],
   "source": [
    "# plot options\n",
    "figsize = (12, 6)\n",
    "\n",
    "fig, axes = plt.subplots(1, 1, figsize=figsize)\n",
    "ax = axes\n",
    "ax.set_xscale('log')\n",
    "ax.set_yscale('log')\n",
    "for topo, data in df.groupby('topo'):\n",
    "    ax.plot(range(1, len(data['loss'])+1), data['loss'], label=topo)\n",
    "ax.legend()\n",
    "ax.set_xlabel('Iteration #')\n",
    "ax.set_ylabel('Train Loss')\n",
    "plt.show()"
   ]
  }
 ],
 "metadata": {
  "kernelspec": {
   "display_name": "Python 3",
   "language": "python",
   "name": "python3"
  },
  "language_info": {
   "codemirror_mode": {
    "name": "ipython",
    "version": 3
   },
   "file_extension": ".py",
   "mimetype": "text/x-python",
   "name": "python",
   "nbconvert_exporter": "python",
   "pygments_lexer": "ipython3",
   "version": "3.9.3"
  }
 },
 "nbformat": 4,
 "nbformat_minor": 5
}
