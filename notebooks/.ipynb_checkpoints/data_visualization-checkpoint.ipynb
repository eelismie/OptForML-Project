{
 "cells": [
  {
   "cell_type": "markdown",
   "id": "express-administrator",
   "metadata": {},
   "source": [
    "# Data Visualization Notebook\n",
    "\n",
    "In this notebook, we will perform multiple plots to visualize our dataset distribution, and how it is distributed accross the nodes.\n",
    "\n",
    "But first, some global imports:"
   ]
  },
  {
   "cell_type": "code",
   "execution_count": 1,
   "id": "intense-color",
   "metadata": {},
   "outputs": [],
   "source": [
    "import numpy as np\n",
    "import sys\n",
    "sys.path.insert(0, '../modules')\n",
    "\n",
    "from matplotlib import pyplot as plt\n",
    "%"
   ]
  },
  {
   "cell_type": "markdown",
   "id": "south-charm",
   "metadata": {},
   "source": [
    "## Dataset\n",
    "\n",
    "The dataset is a _skewed_ Gaussian distribution in 2D.\n",
    "\n",
    "Here, we will create it, and present it:"
   ]
  },
  {
   "cell_type": "code",
   "execution_count": null,
   "id": "center-romania",
   "metadata": {},
   "outputs": [],
   "source": [
    "from data import get_data\n",
    "\n",
    "X, y = get_data()"
   ]
  }
 ],
 "metadata": {
  "kernelspec": {
   "display_name": "Python 3",
   "language": "python",
   "name": "python3"
  },
  "language_info": {
   "codemirror_mode": {
    "name": "ipython",
    "version": 3
   },
   "file_extension": ".py",
   "mimetype": "text/x-python",
   "name": "python",
   "nbconvert_exporter": "python",
   "pygments_lexer": "ipython3",
   "version": "3.9.3"
  }
 },
 "nbformat": 4,
 "nbformat_minor": 5
}
